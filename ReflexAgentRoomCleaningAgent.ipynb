import random

class RoomCleanerAgent:
    def __init__(self, room_size=(10, 10)):
        self.room_size = room_size
        self.grid = [[random.choice([0, 1]) for _ in range(room_size[1])] for _ in range(room_size[0])]
        self.current_position = (random.randint(0, room_size[0] - 1), random.randint(0, room_size[1] - 1))

    def display_room(self):
        for row in self.grid:
            for cell in row:
                print(str(cell), end=" ")
            print("\n")
    def run(self):
        print("Initial Room Status:")
        self.display_room()

# Create an instance of RoomCleanerAgent and run it
agent = RoomCleanerAgent()
agent.run()
