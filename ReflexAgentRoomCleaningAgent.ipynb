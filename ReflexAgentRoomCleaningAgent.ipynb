{
  "nbformat": 4,
  "nbformat_minor": 0,
  "metadata": {
    "colab": {
      "provenance": [],
      "include_colab_link": true
    },
    "kernelspec": {
      "name": "python3",
      "display_name": "Python 3"
    },
    "language_info": {
      "name": "python"
    }
  },
  "cells": [
    {
      "cell_type": "markdown",
      "metadata": {
        "id": "view-in-github",
        "colab_type": "text"
      },
      "source": [
        "<a href=\"https://colab.research.google.com/github/Shristi998/AI-lab/blob/main/ReflexAgentRoomCleaningAgent.ipynb\" target=\"_parent\"><img src=\"https://colab.research.google.com/assets/colab-badge.svg\" alt=\"Open In Colab\"/></a>"
      ]
    },
    {
      "cell_type": "code",
      "source": [
        "import random\n",
        "\n",
        "class RoomCleanerAgent:\n",
        "    def __init__(self, room_size=(10, 10)):\n",
        "        self.room_size = room_size\n",
        "        self.grid = [[random.choice([0, 1]) for _ in range(room_size[1])] for _ in range(room_size[0])]\n",
        "        self.current_position = (random.randint(0, room_size[0] - 1), random.randint(0, room_size[1] - 1))\n",
        "\n",
        "    def display_room(self):\n",
        "        for row in self.grid:\n",
        "            for cell in row:\n",
        "                print(str(cell), end=\" \")\n",
        "            print(\"\\n\")\n",
        "    def run(self):\n",
        "        print(\"Initial Room Status:\")\n",
        "        self.display_room()\n",
        "\n",
        "# Create an instance of RoomCleanerAgent and run it\n",
        "agent = RoomCleanerAgent()\n",
        "agent.run()"
      ],
      "metadata": {
        "colab": {
          "base_uri": "https://localhost:8080/"
        },
        "id": "6bpkE17Disb9",
        "outputId": "88f00960-5f67-4c27-cc2a-1fa518425bbd"
      },
      "execution_count": 2,
      "outputs": [
        {
          "output_type": "stream",
          "name": "stdout",
          "text": [
            "Initial Room Status:\n",
            "0 1 0 0 0 1 0 0 0 0 \n",
            "\n",
            "1 1 1 1 0 1 0 0 1 0 \n",
            "\n",
            "1 0 0 0 1 1 1 1 0 1 \n",
            "\n",
            "1 0 0 1 1 1 0 1 1 0 \n",
            "\n",
            "0 0 1 1 0 0 0 1 0 1 \n",
            "\n",
            "0 0 1 1 0 0 0 1 1 0 \n",
            "\n",
            "1 1 0 1 0 0 0 0 0 0 \n",
            "\n",
            "0 1 0 1 1 0 1 0 0 0 \n",
            "\n",
            "0 1 1 1 1 1 1 0 0 0 \n",
            "\n",
            "0 0 1 1 1 0 0 1 0 1 \n",
            "\n"
          ]
        }
      ]
    }
  ]
}